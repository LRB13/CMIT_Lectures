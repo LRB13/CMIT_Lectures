{
 "cells": [
  {
   "cell_type": "markdown",
   "id": "9b7e37da",
   "metadata": {},
   "source": [
    "## Requirements for these lectures:\n",
    "- numpy\n",
    "- matplotlib\n",
    "- scikit-learn (lec 2)\n",
    "- pytorch (lec 3)\n",
    "- torchvision (lec 3) - install via anaconda prompt using: 'conda install -c pytorch torchvision'"
   ]
  },
  {
   "cell_type": "markdown",
   "id": "8bd4dea4",
   "metadata": {},
   "source": [
    "# Basic Python\n",
    "Here we show some basic python operations and definitions\n",
    "* Booleans: Handles binary variables\n",
    "* Integers: Handles variables in $\\mathbb{Z}$\n",
    "* Floats: For variables in $\\mathbb{R}$\n",
    "* Strings: For characters and text\n",
    "* Lists: To store a compound of data"
   ]
  },
  {
   "cell_type": "code",
   "execution_count": null,
   "id": "d77743f5",
   "metadata": {},
   "outputs": [],
   "source": [
    "# Booleans\n",
    "b = True\n",
    "\n",
    "#Example if/else:\n",
    "if b:\n",
    "    print(\"b is true\")\n",
    "else:\n",
    "    print(\"b is false\")\n",
    "\n",
    "# Example if not:\n",
    "c = False\n",
    "\n",
    "if not c:\n",
    "    print(\"c is false\")\n",
    "else:\n",
    "    print(\"c is true\")"
   ]
  },
  {
   "cell_type": "code",
   "execution_count": null,
   "id": "d59f63d7",
   "metadata": {},
   "outputs": [],
   "source": [
    "# Integer\n",
    "a = 29\n",
    "print(type(a))\n"
   ]
  },
  {
   "cell_type": "code",
   "execution_count": null,
   "id": "dff0c6c0",
   "metadata": {},
   "outputs": [],
   "source": [
    "# Float\n",
    "a = a+0.6\n",
    "print(a,type(a))\n",
    "a = int(a)\n",
    "print(a,type(a))\n",
    "\n",
    "b = 5e-3\n",
    "print(b)"
   ]
  },
  {
   "cell_type": "code",
   "execution_count": null,
   "id": "a8c033dd",
   "metadata": {},
   "outputs": [],
   "source": [
    "# String\n",
    "s1 = 'Hello world'\n",
    "print(s1)\n",
    "s2 = '10'\n",
    "print(s2,type(s2))"
   ]
  },
  {
   "cell_type": "code",
   "execution_count": null,
   "id": "85a73dc3",
   "metadata": {},
   "outputs": [],
   "source": [
    "s2 + 5"
   ]
  },
  {
   "cell_type": "code",
   "execution_count": null,
   "id": "d55be4d8",
   "metadata": {},
   "outputs": [],
   "source": [
    "# int2str:\n",
    "a = 5\n",
    "a_string = str(a)\n",
    "print(a_string)\n",
    "s3 = s2 + a_string\n",
    "print(s3)"
   ]
  },
  {
   "cell_type": "code",
   "execution_count": null,
   "id": "5770c7a9",
   "metadata": {},
   "outputs": [],
   "source": [
    "# str2int\n",
    "s3_int = int(s3)\n",
    "print(s3_int,type(s3_int))"
   ]
  },
  {
   "cell_type": "code",
   "execution_count": null,
   "id": "d4475cf4",
   "metadata": {},
   "outputs": [],
   "source": [
    "# Operations \n",
    "a = 5\n",
    "f = 3.5\n",
    "s = a + f - 10 # Adding and substracting\n",
    "print(s)\n",
    "m = a * f / 3 # Multiplication and dividing \n",
    "print(m)\n",
    "p = a**f # a to the power of f\n",
    "print(p)\n",
    "a += f # increment a  // or a = a+f\n",
    "print(a)\n",
    "\n",
    "\n",
    "a_vs_f1 = (a == f) # or (a is f) \n",
    "a_vs_f2 = (a != f) # assessing the inequality of two variables\n",
    "a_or_f = (a or f) # True if one of them is not 0 nor None \n",
    "a_and_f = (a and f) # True if and only if all of them are not 0 nor None"
   ]
  },
  {
   "cell_type": "markdown",
   "id": "995b68af",
   "metadata": {},
   "source": [
    "## Printing"
   ]
  },
  {
   "cell_type": "code",
   "execution_count": null,
   "id": "f38fc9eb",
   "metadata": {},
   "outputs": [],
   "source": [
    "# Printing\n",
    "print(a) # simple\n",
    "print(a, a_vs_f ) # print compound variables"
   ]
  },
  {
   "cell_type": "code",
   "execution_count": null,
   "id": "7eb71fdc",
   "metadata": {},
   "outputs": [],
   "source": [
    "print('op1: ', s, ', op2: ', m, ', op3: ', p) # personalized print"
   ]
  },
  {
   "cell_type": "code",
   "execution_count": null,
   "id": "46d00bf5",
   "metadata": {},
   "outputs": [],
   "source": [
    "print('a: %d, b: %f, string: %s, s: %f, m: %.2f, p: %f' %(a, f, s1, s, m, p)) # formated print"
   ]
  },
  {
   "cell_type": "code",
   "execution_count": null,
   "id": "812ebb55",
   "metadata": {},
   "outputs": [],
   "source": [
    "print('a: {}, b: {}, string: {}, s: {}, m: {}, p: {}'.format(a, f, s1, s, m, p)) # formated print"
   ]
  },
  {
   "cell_type": "markdown",
   "id": "efec0c2f",
   "metadata": {},
   "source": [
    "## Lists"
   ]
  },
  {
   "cell_type": "code",
   "execution_count": null,
   "id": "dc8c6059",
   "metadata": {},
   "outputs": [],
   "source": [
    "# Lists\n",
    "l = [2, 3, 10.5]\n",
    "print(l, type(l))"
   ]
  },
  {
   "cell_type": "code",
   "execution_count": null,
   "id": "040a1734",
   "metadata": {},
   "outputs": [],
   "source": [
    "# Nested list\n",
    "l2 = [5, 3, 7, l]\n",
    "print(l2)\n",
    "print(l2[3])"
   ]
  },
  {
   "cell_type": "code",
   "execution_count": null,
   "id": "4ab5a9cd",
   "metadata": {},
   "outputs": [],
   "source": [
    "# Iteratively building a list\n",
    "l3 = []\n",
    "print(l3)\n",
    "l3.append(4)\n",
    "l3.append(7)\n",
    "print(l3)"
   ]
  },
  {
   "cell_type": "code",
   "execution_count": null,
   "id": "91989bf3",
   "metadata": {},
   "outputs": [],
   "source": [
    "l = [*range(0,20,1)] #using argument-unpacking operator \n",
    "print(l)"
   ]
  },
  {
   "cell_type": "code",
   "execution_count": null,
   "id": "59a721d4",
   "metadata": {},
   "outputs": [],
   "source": [
    "a = l[0] #first item in list\n",
    "print(a) "
   ]
  },
  {
   "cell_type": "code",
   "execution_count": null,
   "id": "f5dced56",
   "metadata": {},
   "outputs": [],
   "source": [
    "b = l[1:3] #the 2nd to the 3rd element in the list\n",
    "print(b)"
   ]
  },
  {
   "cell_type": "code",
   "execution_count": null,
   "id": "73c6cd6b",
   "metadata": {},
   "outputs": [],
   "source": [
    "c = l[0:5:2] # taking from the first to the sixth element with a stride of 2\n",
    "print(c)"
   ]
  },
  {
   "cell_type": "code",
   "execution_count": null,
   "id": "f37f82f5",
   "metadata": {},
   "outputs": [],
   "source": [
    "d = l[-1] # taking the last element\n",
    "print(d)\n",
    "d2 = l[-2] # take the second to last element\n",
    "print(d2)\n",
    "e = l[:-2] #taking all the elements, except the last 2\n",
    "print(e)\n",
    "f = l[2:] #taking all the elements, except the first 2\n",
    "print(f)"
   ]
  },
  {
   "cell_type": "markdown",
   "id": "85b79f90",
   "metadata": {},
   "source": [
    "## If statements and loops"
   ]
  },
  {
   "cell_type": "code",
   "execution_count": null,
   "id": "c3a90941",
   "metadata": {},
   "outputs": [],
   "source": [
    "a = 10\n",
    "b = 5\n",
    "# standard if statement\n",
    "if (a >= b):\n",
    "    print('a is greater')\n",
    "else:\n",
    "    print('a is less')"
   ]
  },
  {
   "cell_type": "code",
   "execution_count": null,
   "id": "3ee42336",
   "metadata": {},
   "outputs": [],
   "source": [
    "# if statement in a loop\n",
    "for i in range(20): # i will take each value in the variable table [0, 1, 2, ..., 19]\n",
    "    if (i%2 != 0): # you can just write: (i%2)\n",
    "        print(i)\n",
    "    \n",
    "print('---')\n",
    "for j in range(5,10):\n",
    "    print(j)"
   ]
  },
  {
   "cell_type": "code",
   "execution_count": null,
   "id": "6658f969",
   "metadata": {},
   "outputs": [],
   "source": [
    "k = 0\n",
    "\n",
    "# loop while a requirement is not met\n",
    "while(k < 10):\n",
    "    print(k)\n",
    "    k += 3\n",
    "    "
   ]
  },
  {
   "cell_type": "code",
   "execution_count": null,
   "id": "200dca88",
   "metadata": {},
   "outputs": [],
   "source": [
    "#enumerate loop\n",
    "l = [3, 8, 2, 4]\n",
    "for idx,a in enumerate(l):\n",
    "    print(idx,a)\n",
    "    # a = l[idx]"
   ]
  },
  {
   "cell_type": "markdown",
   "id": "1d4fcc57",
   "metadata": {},
   "source": [
    "## Functions"
   ]
  },
  {
   "cell_type": "code",
   "execution_count": null,
   "id": "2a1b1545",
   "metadata": {},
   "outputs": [],
   "source": [
    "def func(x,y):\n",
    "    # f = 3x + y\n",
    "    x *= 3\n",
    "    f = x+y\n",
    "    return f, x\n",
    "a=3\n",
    "f, arg= func(a,4)\n",
    "print(f,arg)"
   ]
  },
  {
   "cell_type": "code",
   "execution_count": null,
   "id": "d689e4b0",
   "metadata": {},
   "outputs": [],
   "source": [
    "# Using default variables in a function\n",
    "def default(x=10):\n",
    "    print('[default] x = %s.' %(x))\n",
    "\n",
    "default()\n",
    "default(7)\n",
    "default('test')"
   ]
  },
  {
   "cell_type": "code",
   "execution_count": null,
   "id": "3e67bc80",
   "metadata": {},
   "outputs": [],
   "source": [
    "def default(a, b, c):\n",
    "    print('a %s, b %s, c %s' %(a, b, c))\n",
    "default(1,2,3)\n",
    "default(b=1, a=2, c=3)"
   ]
  },
  {
   "cell_type": "markdown",
   "id": "e867bb2e",
   "metadata": {},
   "source": [
    "# Fibonacci sequence:\n",
    "$ u_{n+2} = u_{n+1} + u_{n}$ with $u_0=0$ and $u_1=1$"
   ]
  },
  {
   "cell_type": "code",
   "execution_count": null,
   "id": "2b772701",
   "metadata": {},
   "outputs": [],
   "source": [
    "def fib(n):\n",
    "    a, b = 0, 1\n",
    "    while a < n:\n",
    "        print(a)\n",
    "        a, b = b, a+b \n",
    "        # a = b\n",
    "        # b = a+b\n",
    "fib(100)"
   ]
  },
  {
   "cell_type": "markdown",
   "id": "ac7d091b",
   "metadata": {},
   "source": [
    "## Classes"
   ]
  },
  {
   "cell_type": "code",
   "execution_count": null,
   "id": "08d9dc19",
   "metadata": {},
   "outputs": [],
   "source": [
    "class Letter:\n",
    "    def __init__(self, to, message):\n",
    "        self.to = to\n",
    "        self.message = message\n",
    "        self.status = 'draft'\n",
    "    \n",
    "    def length(self):\n",
    "        return len(self.message) \n",
    "    \n",
    "    def send(self):\n",
    "        if(self.length() > 1000):\n",
    "            print('Can not send message with more that 1000 characters.')\n",
    "        else:\n",
    "            print('Message sent.')\n",
    "            self.status = 'sent'"
   ]
  },
  {
   "cell_type": "code",
   "execution_count": null,
   "id": "68f85f95",
   "metadata": {},
   "outputs": [],
   "source": [
    "new = Letter(to='email@my.self', message='Hello!')\n",
    "print(new)\n",
    "print(new.to)\n",
    "new.send()"
   ]
  },
  {
   "cell_type": "markdown",
   "id": "ccbb5412",
   "metadata": {},
   "source": [
    "# Numpy"
   ]
  },
  {
   "cell_type": "code",
   "execution_count": null,
   "id": "a3b05578",
   "metadata": {},
   "outputs": [],
   "source": [
    "import numpy as np"
   ]
  },
  {
   "cell_type": "code",
   "execution_count": null,
   "id": "c8340fab",
   "metadata": {},
   "outputs": [],
   "source": [
    "l = [4,8,2,9]\n",
    "print(l,type(l))\n",
    "a = np.array(l)\n",
    "print(a,type(a))\n",
    "\n",
    "b = np.arange(10)\n",
    "print(b)\n",
    "print(type(b))"
   ]
  },
  {
   "cell_type": "code",
   "execution_count": null,
   "id": "00a79020",
   "metadata": {},
   "outputs": [],
   "source": [
    "z = np.zeros(10)\n",
    "o = 5*np.ones((10,2))\n",
    "print(z)\n",
    "print(o)"
   ]
  },
  {
   "cell_type": "code",
   "execution_count": null,
   "id": "eb7c0923",
   "metadata": {},
   "outputs": [],
   "source": [
    "linear_space = np.linspace(-1, 3, 10)\n",
    "print('linear space between [-1, 3]:  %s' %(linear_space)) "
   ]
  },
  {
   "cell_type": "code",
   "execution_count": null,
   "id": "f69d28e8",
   "metadata": {},
   "outputs": [],
   "source": [
    "a = np.arange(10) #[0,1,2,3,4,5,6,7,8,9]\n",
    "b = np.array([3,8,6,0,4,13,8,7,4,6])\n",
    "print('Point-wise product %s' %(a * b))\n",
    "print('Point-wise sum %s' %(a + b))\n",
    "\n",
    "dot = np.dot(a,b)\n",
    "outer = np.outer(a,b)\n",
    "print(dot)\n",
    "print(outer)"
   ]
  },
  {
   "cell_type": "code",
   "execution_count": null,
   "id": "5e91b7c6",
   "metadata": {},
   "outputs": [],
   "source": [
    "M = np.arange(100)\n",
    "M = np.reshape(M, (10,10))\n",
    "print(M)\n",
    "print(np.linalg.det(M))\n",
    "print(np.linalg.norm(M))\n",
    "\n",
    "# Mv (matrix vector multiplication)\n",
    "v = np.reshape(a,(10,1))\n",
    "print(np.matmul(M,v))"
   ]
  },
  {
   "cell_type": "code",
   "execution_count": null,
   "id": "3df3ef55",
   "metadata": {},
   "outputs": [],
   "source": [
    "from matplotlib import pyplot as plt"
   ]
  },
  {
   "cell_type": "code",
   "execution_count": null,
   "id": "f1790705",
   "metadata": {},
   "outputs": [],
   "source": [
    "x = np.linspace(-10,10,100)\n",
    "y = np.sin(x)\n",
    "\n",
    "plt.plot(x, y)"
   ]
  },
  {
   "cell_type": "code",
   "execution_count": null,
   "id": "f01ed96b",
   "metadata": {},
   "outputs": [],
   "source": [
    "# 2D Multiple Plots and Legends\n",
    "x = np.linspace(-10,10,100)\n",
    "y1 = np.sin(x)\n",
    "y2 = np.sin(.5*x)\n",
    "plt.plot(x, y1)\n",
    "plt.plot(x, y2)\n",
    "plt.legend(('first', 'second'))"
   ]
  },
  {
   "cell_type": "code",
   "execution_count": null,
   "id": "2e3f0191",
   "metadata": {},
   "outputs": [],
   "source": [
    "# Subplots\n",
    "x = np.linspace(-10,10,100)\n",
    "y1 = np.sin(x)\n",
    "y2 = np.sin(.5*x)\n",
    "\n",
    "plt.figure(figsize=(12,4))\n",
    "plt.subplot(1,2,1)\n",
    "plt.plot(x, y1)\n",
    "plt.title('test')\n",
    "plt.subplot(1,2,2)\n",
    "plt.plot(x, y2)\n",
    "plt.title('other')"
   ]
  },
  {
   "cell_type": "code",
   "execution_count": null,
   "id": "b4f245a8",
   "metadata": {},
   "outputs": [],
   "source": []
  }
 ],
 "metadata": {
  "kernelspec": {
   "display_name": "Python 3 (ipykernel)",
   "language": "python",
   "name": "python3"
  },
  "language_info": {
   "codemirror_mode": {
    "name": "ipython",
    "version": 3
   },
   "file_extension": ".py",
   "mimetype": "text/x-python",
   "name": "python",
   "nbconvert_exporter": "python",
   "pygments_lexer": "ipython3",
   "version": "3.8.13"
  }
 },
 "nbformat": 4,
 "nbformat_minor": 5
}
