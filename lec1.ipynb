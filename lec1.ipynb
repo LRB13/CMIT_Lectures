{
 "cells": [
  {
   "cell_type": "markdown",
   "id": "9b7e37da",
   "metadata": {},
   "source": [
    "## Requirements for these lectures:\n",
    "- numpy\n",
    "- matplotlib\n",
    "- scikit-learn (lec 2)\n",
    "- pytorch (lec 3)\n",
    "- torchvision (lec 3) - install via anaconda prompt using: 'conda install -c pytorch torchvision'"
   ]
  },
  {
   "cell_type": "markdown",
   "id": "8bd4dea4",
   "metadata": {},
   "source": [
    "# Basic Python\n",
    "Here we show some basic python operations and definitions\n",
    "* Booleans: Handles binary variables\n",
    "* Integers: Handles variables in $\\mathbb{Z}$\n",
    "* Floats: For variables in $\\mathbb{R}$\n",
    "* Strings: For characters and text\n",
    "* Lists: To store a compound of data"
   ]
  },
  {
   "cell_type": "code",
   "execution_count": 6,
   "id": "d77743f5",
   "metadata": {},
   "outputs": [
    {
     "name": "stdout",
     "output_type": "stream",
     "text": [
      "b is true\n",
      "c is false\n"
     ]
    }
   ],
   "source": [
    "# Booleans\n",
    "b = True\n",
    "\n",
    "#Example if/else:\n",
    "if b:\n",
    "    print(\"b is true\")\n",
    "else:\n",
    "    print(\"b is false\")\n",
    "\n",
    "# Example if not:\n",
    "c = False\n",
    "\n",
    "if not c:\n",
    "    print(\"c is false\")\n",
    "else:\n",
    "    print(\"c is true\")"
   ]
  },
  {
   "cell_type": "code",
   "execution_count": 7,
   "id": "d59f63d7",
   "metadata": {},
   "outputs": [
    {
     "name": "stdout",
     "output_type": "stream",
     "text": [
      "<class 'int'>\n"
     ]
    }
   ],
   "source": [
    "# Integer\n",
    "a = 29\n",
    "print(type(a))\n"
   ]
  },
  {
   "cell_type": "code",
   "execution_count": 10,
   "id": "dff0c6c0",
   "metadata": {},
   "outputs": [
    {
     "name": "stdout",
     "output_type": "stream",
     "text": [
      "29.6 <class 'float'>\n",
      "29 <class 'int'>\n",
      "0.005\n"
     ]
    }
   ],
   "source": [
    "# Float\n",
    "a = a+0.6\n",
    "print(a,type(a))\n",
    "a = int(a)\n",
    "print(a,type(a))\n",
    "\n",
    "b = 5e-3 #5 * 10^-3\n",
    "print(b)"
   ]
  },
  {
   "cell_type": "code",
   "execution_count": 11,
   "id": "a8c033dd",
   "metadata": {},
   "outputs": [
    {
     "name": "stdout",
     "output_type": "stream",
     "text": [
      "Hello world\n",
      "10 <class 'str'>\n"
     ]
    }
   ],
   "source": [
    "# String\n",
    "s1 = 'Hello world'\n",
    "print(s1)\n",
    "s2 = '10'\n",
    "print(s2,type(s2))"
   ]
  },
  {
   "cell_type": "markdown",
   "id": "df40e6ad",
   "metadata": {},
   "source": [
    "Summing a string and an integer together is not allowed:"
   ]
  },
  {
   "cell_type": "code",
   "execution_count": 12,
   "id": "85a73dc3",
   "metadata": {},
   "outputs": [
    {
     "ename": "TypeError",
     "evalue": "can only concatenate str (not \"int\") to str",
     "output_type": "error",
     "traceback": [
      "\u001b[1;31m---------------------------------------------------------------------------\u001b[0m",
      "\u001b[1;31mTypeError\u001b[0m                                 Traceback (most recent call last)",
      "Input \u001b[1;32mIn [12]\u001b[0m, in \u001b[0;36m<cell line: 1>\u001b[1;34m()\u001b[0m\n\u001b[1;32m----> 1\u001b[0m \u001b[43ms2\u001b[49m\u001b[43m \u001b[49m\u001b[38;5;241;43m+\u001b[39;49m\u001b[43m \u001b[49m\u001b[38;5;241;43m5\u001b[39;49m\n",
      "\u001b[1;31mTypeError\u001b[0m: can only concatenate str (not \"int\") to str"
     ]
    }
   ],
   "source": [
    "s2 + 5"
   ]
  },
  {
   "cell_type": "code",
   "execution_count": 14,
   "id": "d55be4d8",
   "metadata": {},
   "outputs": [
    {
     "name": "stdout",
     "output_type": "stream",
     "text": [
      "5\n",
      "105\n"
     ]
    }
   ],
   "source": [
    "# int2str:\n",
    "a = 5\n",
    "a_string = str(a)\n",
    "print(a_string)\n",
    "s3 = s2 + a_string\n",
    "print(s3)"
   ]
  },
  {
   "cell_type": "code",
   "execution_count": 15,
   "id": "5770c7a9",
   "metadata": {},
   "outputs": [
    {
     "name": "stdout",
     "output_type": "stream",
     "text": [
      "105 <class 'int'>\n"
     ]
    }
   ],
   "source": [
    "# str2int\n",
    "s3_int = int(s3)\n",
    "print(s3_int,type(s3_int))"
   ]
  },
  {
   "cell_type": "code",
   "execution_count": 18,
   "id": "d4475cf4",
   "metadata": {},
   "outputs": [
    {
     "name": "stdout",
     "output_type": "stream",
     "text": [
      "-1.5\n",
      "5.833333333333333\n",
      "279.5084971874737\n",
      "8.5\n"
     ]
    }
   ],
   "source": [
    "# Operations \n",
    "a = 5\n",
    "f = 3.5\n",
    "s = a + f - 10 # Adding and substracting\n",
    "print(s)\n",
    "m = a * f / 3 # Multiplication and dividing \n",
    "print(m)\n",
    "p = a**f # a to the power of f\n",
    "print(p)\n",
    "a += f # increment a  // or a = a+f\n",
    "print(a)\n",
    "\n",
    "\n",
    "a_vs_f1 = (a == f) # or (a is f) \n",
    "a_vs_f2 = (a != f) # assessing the inequality of two variables\n",
    "a_or_f = (a or f) # True if one of them is not 0 nor None \n",
    "a_and_f = (a and f) # True if and only if all of them are not 0 nor None"
   ]
  },
  {
   "cell_type": "markdown",
   "id": "995b68af",
   "metadata": {},
   "source": [
    "## Printing"
   ]
  },
  {
   "cell_type": "code",
   "execution_count": 21,
   "id": "f38fc9eb",
   "metadata": {},
   "outputs": [
    {
     "name": "stdout",
     "output_type": "stream",
     "text": [
      "8.5\n",
      "8.5 True\n"
     ]
    }
   ],
   "source": [
    "# Printing\n",
    "print(a) # simple\n",
    "print(a, a_vs_f2 ) # print compound variables"
   ]
  },
  {
   "cell_type": "code",
   "execution_count": 22,
   "id": "7eb71fdc",
   "metadata": {},
   "outputs": [
    {
     "name": "stdout",
     "output_type": "stream",
     "text": [
      "op1:  -1.5 , op2:  5.833333333333333 , op3:  279.5084971874737\n"
     ]
    }
   ],
   "source": [
    "print('op1: ', s, ', op2: ', m, ', op3: ', p) # personalized print"
   ]
  },
  {
   "cell_type": "code",
   "execution_count": 23,
   "id": "46d00bf5",
   "metadata": {},
   "outputs": [
    {
     "name": "stdout",
     "output_type": "stream",
     "text": [
      "a: 8, b: 3.500000, string: Hello world, s: -1.500000, m: 5.83, p: 279.508497\n"
     ]
    }
   ],
   "source": [
    "print('a: %d, b: %f, string: %s, s: %f, m: %.2f, p: %f' %(a, f, s1, s, m, p)) # formated print"
   ]
  },
  {
   "cell_type": "code",
   "execution_count": 25,
   "id": "812ebb55",
   "metadata": {},
   "outputs": [
    {
     "name": "stdout",
     "output_type": "stream",
     "text": [
      "a: 8.5, b: 3.5, string: Hello world, s: -1.5, m: 5.833333333333333, p: 279.5084971874737\n"
     ]
    }
   ],
   "source": [
    "print('a: {}, b: {}, string: {}, s: {}, m: {}, p: {}'.format(a, f, s1, s, m, p)) # formated print"
   ]
  },
  {
   "cell_type": "markdown",
   "id": "efec0c2f",
   "metadata": {},
   "source": [
    "## Lists"
   ]
  },
  {
   "cell_type": "code",
   "execution_count": 26,
   "id": "dc8c6059",
   "metadata": {},
   "outputs": [
    {
     "name": "stdout",
     "output_type": "stream",
     "text": [
      "[2, 3, 10.5] <class 'list'>\n"
     ]
    }
   ],
   "source": [
    "# Lists\n",
    "l = [2, 3, 10.5]\n",
    "print(l, type(l))"
   ]
  },
  {
   "cell_type": "code",
   "execution_count": 27,
   "id": "040a1734",
   "metadata": {},
   "outputs": [
    {
     "name": "stdout",
     "output_type": "stream",
     "text": [
      "[5, 3, 7, [2, 3, 10.5]]\n",
      "[2, 3, 10.5]\n"
     ]
    }
   ],
   "source": [
    "# Nested list\n",
    "l2 = [5, 3, 7, l]\n",
    "print(l2)\n",
    "print(l2[3])"
   ]
  },
  {
   "cell_type": "code",
   "execution_count": 28,
   "id": "4ab5a9cd",
   "metadata": {},
   "outputs": [
    {
     "name": "stdout",
     "output_type": "stream",
     "text": [
      "[]\n",
      "[4, 7]\n"
     ]
    }
   ],
   "source": [
    "# Iteratively building a list\n",
    "l3 = []\n",
    "print(l3)\n",
    "l3.append(4)\n",
    "l3.append(7)\n",
    "print(l3)"
   ]
  },
  {
   "cell_type": "code",
   "execution_count": 36,
   "id": "91989bf3",
   "metadata": {},
   "outputs": [
    {
     "name": "stdout",
     "output_type": "stream",
     "text": [
      "[0, 1, 2, 3, 4, 5, 6, 7, 8, 9, 10, 11, 12, 13, 14, 15, 16, 17, 18, 19]\n"
     ]
    }
   ],
   "source": [
    "l = [*range(0,20,1)] #using argument-unpacking operator \n",
    "print(l)"
   ]
  },
  {
   "cell_type": "code",
   "execution_count": 38,
   "id": "59a721d4",
   "metadata": {},
   "outputs": [
    {
     "name": "stdout",
     "output_type": "stream",
     "text": [
      "0\n"
     ]
    }
   ],
   "source": [
    "a = l[0] #first item in list\n",
    "print(a) "
   ]
  },
  {
   "cell_type": "code",
   "execution_count": 40,
   "id": "f5dced56",
   "metadata": {},
   "outputs": [
    {
     "name": "stdout",
     "output_type": "stream",
     "text": [
      "[1, 2]\n"
     ]
    }
   ],
   "source": [
    "b = l[1:3] #the 2nd to the 3rd element in the list\n",
    "print(b)"
   ]
  },
  {
   "cell_type": "code",
   "execution_count": 42,
   "id": "73c6cd6b",
   "metadata": {},
   "outputs": [
    {
     "name": "stdout",
     "output_type": "stream",
     "text": [
      "[0, 2, 4]\n"
     ]
    }
   ],
   "source": [
    "c = l[0:5:2] # taking from the first to the sixth element with a stride of 2\n",
    "print(c)"
   ]
  },
  {
   "cell_type": "code",
   "execution_count": 45,
   "id": "f37f82f5",
   "metadata": {},
   "outputs": [
    {
     "name": "stdout",
     "output_type": "stream",
     "text": [
      "19\n",
      "18\n",
      "[0, 1, 2, 3, 4, 5, 6, 7, 8, 9, 10, 11, 12, 13, 14, 15, 16, 17]\n",
      "[2, 3, 4, 5, 6, 7, 8, 9, 10, 11, 12, 13, 14, 15, 16, 17, 18, 19]\n"
     ]
    }
   ],
   "source": [
    "d = l[-1] # taking the last element\n",
    "print(d)\n",
    "d2 = l[-2] # take the second to last element\n",
    "print(d2)\n",
    "e = l[:-2] #taking all the elements, except the last 2\n",
    "print(e)\n",
    "f = l[2:] #taking all the elements, except the first 2\n",
    "print(f)"
   ]
  },
  {
   "cell_type": "markdown",
   "id": "85b79f90",
   "metadata": {},
   "source": [
    "## If statements and loops"
   ]
  },
  {
   "cell_type": "code",
   "execution_count": 52,
   "id": "c3a90941",
   "metadata": {},
   "outputs": [
    {
     "name": "stdout",
     "output_type": "stream",
     "text": [
      "a is greater\n"
     ]
    }
   ],
   "source": [
    "a = 10\n",
    "b = 5\n",
    "# standard if statement\n",
    "if (a >= b):\n",
    "    print('a is greater')\n",
    "else:\n",
    "    print('a is less')\n"
   ]
  },
  {
   "cell_type": "code",
   "execution_count": 57,
   "id": "3ee42336",
   "metadata": {},
   "outputs": [
    {
     "name": "stdout",
     "output_type": "stream",
     "text": [
      "0\n",
      "2\n",
      "4\n",
      "6\n",
      "8\n",
      "10\n",
      "12\n",
      "14\n",
      "16\n",
      "18\n",
      "---\n",
      "5\n",
      "6\n",
      "7\n",
      "8\n",
      "9\n"
     ]
    }
   ],
   "source": [
    "# if statement in a loop\n",
    "for i in range(20): # i will take each value in the variable table [0, 1, 2, ..., 19]\n",
    "    if (i%2 == 0): # you can just write: (i%2)\n",
    "        print(i)\n",
    "    \n",
    "print('---')\n",
    "for j in range(5,10):\n",
    "    print(j)"
   ]
  },
  {
   "cell_type": "code",
   "execution_count": 58,
   "id": "6658f969",
   "metadata": {},
   "outputs": [
    {
     "name": "stdout",
     "output_type": "stream",
     "text": [
      "0\n",
      "3\n",
      "6\n",
      "9\n"
     ]
    }
   ],
   "source": [
    "k = 0\n",
    "# loop while a requirement is not met\n",
    "while(k < 10):\n",
    "    print(k)\n",
    "    k += 3\n",
    "    "
   ]
  },
  {
   "cell_type": "code",
   "execution_count": 61,
   "id": "200dca88",
   "metadata": {},
   "outputs": [
    {
     "name": "stdout",
     "output_type": "stream",
     "text": [
      "0 3\n",
      "1 8\n",
      "2 2\n",
      "3 4\n"
     ]
    }
   ],
   "source": [
    "#enumerate loop\n",
    "l = [3, 8, 2, 4]\n",
    "for idx,a in enumerate(l):\n",
    "    print(idx,a)\n",
    "    # a = l[idx]"
   ]
  },
  {
   "cell_type": "markdown",
   "id": "1d4fcc57",
   "metadata": {},
   "source": [
    "## Functions"
   ]
  },
  {
   "cell_type": "code",
   "execution_count": 62,
   "id": "2a1b1545",
   "metadata": {},
   "outputs": [
    {
     "name": "stdout",
     "output_type": "stream",
     "text": [
      "13 9\n"
     ]
    }
   ],
   "source": [
    "def func(x,y):\n",
    "    # f = 3x + y\n",
    "    x *= 3\n",
    "    f = x+y\n",
    "    return f, x\n",
    "a=3\n",
    "f, arg= func(a,4)\n",
    "print(f,arg)"
   ]
  },
  {
   "cell_type": "code",
   "execution_count": 64,
   "id": "d689e4b0",
   "metadata": {},
   "outputs": [
    {
     "name": "stdout",
     "output_type": "stream",
     "text": [
      "[default] x = 10.\n",
      "[default] x = 7.\n",
      "[default] x = test.\n"
     ]
    }
   ],
   "source": [
    "# Using default variables in a function\n",
    "def default(x=10):\n",
    "    print('[default] x = %s.' %(x))\n",
    "\n",
    "default()\n",
    "default(7)\n",
    "default('test')"
   ]
  },
  {
   "cell_type": "code",
   "execution_count": 66,
   "id": "3e67bc80",
   "metadata": {},
   "outputs": [
    {
     "name": "stdout",
     "output_type": "stream",
     "text": [
      "a 1, b 2, c 3\n",
      "a 2, b 1, c 3\n"
     ]
    }
   ],
   "source": [
    "def default(a, b, c):\n",
    "    print('a %s, b %s, c %s' %(a, b, c))\n",
    "default(1,2,3)\n",
    "default(b=1, a=2, c=3)"
   ]
  },
  {
   "cell_type": "markdown",
   "id": "e867bb2e",
   "metadata": {},
   "source": [
    "# Fibonacci sequence:\n",
    "$ u_{n+2} = u_{n+1} + u_{n}$ with $u_0=0$ and $u_1=1$"
   ]
  },
  {
   "cell_type": "code",
   "execution_count": 69,
   "id": "2b772701",
   "metadata": {},
   "outputs": [
    {
     "name": "stdout",
     "output_type": "stream",
     "text": [
      "0\n",
      "1\n",
      "1\n",
      "2\n",
      "3\n",
      "5\n",
      "8\n",
      "13\n",
      "21\n",
      "34\n",
      "55\n",
      "89\n",
      "144\n"
     ]
    }
   ],
   "source": [
    "def fib(n):\n",
    "    a, b = 0, 1\n",
    "    while a < n:\n",
    "        print(a)\n",
    "        a, b = b, a+b \n",
    "        #a = b\n",
    "        #b = a+b\n",
    "fib(200)"
   ]
  },
  {
   "cell_type": "markdown",
   "id": "ac7d091b",
   "metadata": {},
   "source": [
    "## Classes"
   ]
  },
  {
   "cell_type": "code",
   "execution_count": 70,
   "id": "08d9dc19",
   "metadata": {},
   "outputs": [],
   "source": [
    "class Letter:\n",
    "    def __init__(self, to, message):\n",
    "        self.to = to\n",
    "        self.message = message\n",
    "        self.status = 'draft'\n",
    "    \n",
    "    def length(self):\n",
    "        return len(self.message) \n",
    "    \n",
    "    def send(self):\n",
    "        if(self.length() > 1000):\n",
    "            print('Can not send message with more that 1000 characters.')\n",
    "        else:\n",
    "            print('Message sent.')\n",
    "            self.status = 'sent'"
   ]
  },
  {
   "cell_type": "code",
   "execution_count": 74,
   "id": "68f85f95",
   "metadata": {},
   "outputs": [
    {
     "name": "stdout",
     "output_type": "stream",
     "text": [
      "<__main__.Letter object at 0x000002938CCACA60>\n",
      "email@my.self\n",
      "draft\n",
      "Message sent.\n",
      "sent\n"
     ]
    }
   ],
   "source": [
    "new = Letter(to='email@my.self', message='Hello!')\n",
    "print(new)\n",
    "print(new.to)\n",
    "print(new.status)\n",
    "new.send()\n",
    "print(new.status)"
   ]
  },
  {
   "cell_type": "markdown",
   "id": "ccbb5412",
   "metadata": {},
   "source": [
    "# Numpy"
   ]
  },
  {
   "cell_type": "code",
   "execution_count": 76,
   "id": "a3b05578",
   "metadata": {},
   "outputs": [],
   "source": [
    "import numpy as np"
   ]
  },
  {
   "cell_type": "code",
   "execution_count": 78,
   "id": "c8340fab",
   "metadata": {},
   "outputs": [
    {
     "name": "stdout",
     "output_type": "stream",
     "text": [
      "[4, 8, 2, 9] <class 'list'>\n",
      "[4 8 2 9] <class 'numpy.ndarray'>\n",
      "[0 1 2 3 4 5 6 7 8 9]\n",
      "<class 'numpy.ndarray'>\n"
     ]
    }
   ],
   "source": [
    "l = [4,8,2,9]\n",
    "print(l,type(l))\n",
    "a = np.array(l)\n",
    "print(a,type(a))\n",
    "\n",
    "b = np.arange(10)\n",
    "print(b)\n",
    "print(type(b))"
   ]
  },
  {
   "cell_type": "code",
   "execution_count": 81,
   "id": "00a79020",
   "metadata": {},
   "outputs": [
    {
     "name": "stdout",
     "output_type": "stream",
     "text": [
      "[0. 0. 0. 0. 0. 0. 0. 0. 0. 0.]\n",
      "[[5. 5.]\n",
      " [5. 5.]\n",
      " [5. 5.]\n",
      " [5. 5.]\n",
      " [5. 5.]\n",
      " [5. 5.]\n",
      " [5. 5.]\n",
      " [5. 5.]\n",
      " [5. 5.]\n",
      " [5. 5.]]\n"
     ]
    }
   ],
   "source": [
    "z = np.zeros(10)\n",
    "o = 5*np.ones((10,2))\n",
    "print(z)\n",
    "print(o)"
   ]
  },
  {
   "cell_type": "code",
   "execution_count": 82,
   "id": "eb7c0923",
   "metadata": {},
   "outputs": [
    {
     "name": "stdout",
     "output_type": "stream",
     "text": [
      "linear space between [-1, 3]:  [-1.         -0.55555556 -0.11111111  0.33333333  0.77777778  1.22222222\n",
      "  1.66666667  2.11111111  2.55555556  3.        ]\n"
     ]
    }
   ],
   "source": [
    "linear_space = np.linspace(-1, 3, 10)\n",
    "print('linear space between [-1, 3]:  %s' %(linear_space)) "
   ]
  },
  {
   "cell_type": "code",
   "execution_count": 86,
   "id": "f69d28e8",
   "metadata": {},
   "outputs": [
    {
     "name": "stdout",
     "output_type": "stream",
     "text": [
      "Point-wise product [ 0  8 12  0 16 65 48 49 32 54]\n",
      "Point-wise sum [ 3  9  8  3  8 18 14 14 12 15]\n",
      "284\n",
      "[[  0   0   0   0   0   0   0   0   0   0]\n",
      " [  3   8   6   0   4  13   8   7   4   6]\n",
      " [  6  16  12   0   8  26  16  14   8  12]\n",
      " [  9  24  18   0  12  39  24  21  12  18]\n",
      " [ 12  32  24   0  16  52  32  28  16  24]\n",
      " [ 15  40  30   0  20  65  40  35  20  30]\n",
      " [ 18  48  36   0  24  78  48  42  24  36]\n",
      " [ 21  56  42   0  28  91  56  49  28  42]\n",
      " [ 24  64  48   0  32 104  64  56  32  48]\n",
      " [ 27  72  54   0  36 117  72  63  36  54]]\n"
     ]
    }
   ],
   "source": [
    "a = np.arange(10) #[0,1,2,3,4,5,6,7,8,9]\n",
    "b = np.array([3,8,6,0,4,13,8,7,4,6])\n",
    "print('Point-wise product %s' %(a * b))\n",
    "print('Point-wise sum %s' %(a + b))\n",
    "\n",
    "dot = np.dot(a,b)\n",
    "outer = np.outer(a,b)\n",
    "print(dot)\n",
    "print(outer)"
   ]
  },
  {
   "cell_type": "code",
   "execution_count": 88,
   "id": "5e91b7c6",
   "metadata": {},
   "outputs": [
    {
     "name": "stdout",
     "output_type": "stream",
     "text": [
      "[[ 0  1  2  3  4  5  6  7  8  9]\n",
      " [10 11 12 13 14 15 16 17 18 19]\n",
      " [20 21 22 23 24 25 26 27 28 29]\n",
      " [30 31 32 33 34 35 36 37 38 39]\n",
      " [40 41 42 43 44 45 46 47 48 49]\n",
      " [50 51 52 53 54 55 56 57 58 59]\n",
      " [60 61 62 63 64 65 66 67 68 69]\n",
      " [70 71 72 73 74 75 76 77 78 79]\n",
      " [80 81 82 83 84 85 86 87 88 89]\n",
      " [90 91 92 93 94 95 96 97 98 99]]\n",
      "0.0\n",
      "573.0183243143276\n",
      "[[ 285]\n",
      " [ 735]\n",
      " [1185]\n",
      " [1635]\n",
      " [2085]\n",
      " [2535]\n",
      " [2985]\n",
      " [3435]\n",
      " [3885]\n",
      " [4335]]\n"
     ]
    }
   ],
   "source": [
    "M = np.arange(100)\n",
    "M = np.reshape(M, (10,10))\n",
    "print(M)\n",
    "print(np.linalg.det(M))\n",
    "print(np.linalg.norm(M))\n",
    "\n",
    "# Mv (matrix vector multiplication)\n",
    "v = np.reshape(a,(10,1))\n",
    "print(np.matmul(M,v))"
   ]
  },
  {
   "cell_type": "code",
   "execution_count": 91,
   "id": "3df3ef55",
   "metadata": {},
   "outputs": [],
   "source": [
    "from matplotlib import pyplot as plt"
   ]
  },
  {
   "cell_type": "code",
   "execution_count": 92,
   "id": "f1790705",
   "metadata": {},
   "outputs": [
    {
     "data": {
      "text/plain": [
       "[<matplotlib.lines.Line2D at 0x2938e339ca0>]"
      ]
     },
     "execution_count": 92,
     "metadata": {},
     "output_type": "execute_result"
    },
    {
     "data": {
      "image/png": "[encoded data removed]",
      "text/plain": [
       "<Figure size 432x288 with 1 Axes>"
      ]
     },
     "metadata": {
      "needs_background": "light"
     },
     "output_type": "display_data"
    }
   ],
   "source": [
    "x = np.linspace(-10,10,100)\n",
    "y = np.sin(x)\n",
    "\n",
    "plt.plot(x, y)"
   ]
  },
  {
   "cell_type": "code",
   "execution_count": 94,
   "id": "f01ed96b",
   "metadata": {},
   "outputs": [
    {
     "data": {
      "text/plain": [
       "<matplotlib.legend.Legend at 0x2938e4d8340>"
      ]
     },
     "execution_count": 94,
     "metadata": {},
     "output_type": "execute_result"
    },
    {
     "data": {
      "image/png": "[encoded data removed]",
      "text/plain": [
       "<Figure size 432x288 with 1 Axes>"
      ]
     },
     "metadata": {
      "needs_background": "light"
     },
     "output_type": "display_data"
    }
   ],
   "source": [
    "# 2D Multiple Plots and Legends\n",
    "x = np.linspace(-10,10,100)\n",
    "y1 = np.sin(x)\n",
    "y2 = np.sin(.5*x)\n",
    "plt.plot(x, y1)\n",
    "plt.plot(x, y2)\n",
    "plt.legend(('first', 'second'))"
   ]
  },
  {
   "cell_type": "code",
   "execution_count": 97,
   "id": "2e3f0191",
   "metadata": {},
   "outputs": [
    {
     "data": {
      "text/plain": [
       "Text(0.5, 1.0, 'other')"
      ]
     },
     "execution_count": 97,
     "metadata": {},
     "output_type": "execute_result"
    },
    {
     "data": {
      "image/png": "[encoded data removed]",
      "text/plain": [
       "<Figure size 864x288 with 2 Axes>"
      ]
     },
     "metadata": {
      "needs_background": "light"
     },
     "output_type": "display_data"
    }
   ],
   "source": [
    "# Subplots\n",
    "x = np.linspace(-10,10,100)\n",
    "y1 = np.sin(x)\n",
    "y2 = np.sin(.5*x)\n",
    "\n",
    "plt.figure(figsize=(12,4))\n",
    "plt.subplot(1,2,1)\n",
    "plt.plot(x, y1)\n",
    "plt.title('test')\n",
    "plt.subplot(1,2,2)\n",
    "plt.plot(x, y2)\n",
    "plt.title('other')"
   ]
  },
  {
   "cell_type": "markdown",
   "id": "bfcb7c78",
   "metadata": {},
   "source": [
    "## More resources:\n",
    "- [Stanford's CS231n Python Tutorial](https://cs231n.github.io/python-numpy-tutorial/)\n",
    "- [Python in 10 minutes](https://www.stavros.io/tutorials/python/)\n",
    "- [Built in functions](https://docs.python.org/3/library/functions.html)"
   ]
  },
  {
   "cell_type": "markdown",
   "id": "ae45c686",
   "metadata": {},
   "source": [
    "##  Homework\n",
    "- Import a list of random numbers, sort them, and print them out"
   ]
  },
  {
   "cell_type": "code",
   "execution_count": null,
   "id": "aac83528",
   "metadata": {},
   "outputs": [],
   "source": []
  },
  {
   "cell_type": "code",
   "execution_count": null,
   "id": "7c4be00b",
   "metadata": {},
   "outputs": [],
   "source": []
  }
 ],
 "metadata": {
  "kernelspec": {
   "display_name": "Python 3 (ipykernel)",
   "language": "python",
   "name": "python3"
  },
  "language_info": {
   "codemirror_mode": {
    "name": "ipython",
    "version": 3
   },
   "file_extension": ".py",
   "mimetype": "text/x-python",
   "name": "python",
   "nbconvert_exporter": "python",
   "pygments_lexer": "ipython3",
   "version": "3.8.13"
  }
 },
 "nbformat": 4,
 "nbformat_minor": 5
}
